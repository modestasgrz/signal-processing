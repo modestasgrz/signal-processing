{
 "cells": [
  {
   "cell_type": "markdown",
   "id": "1add94b4-3e75-4830-9308-cda9a7706db9",
   "metadata": {},
   "source": [
    "# Task1"
   ]
  },
  {
   "cell_type": "code",
   "execution_count": 1,
   "id": "252753a4-c4dd-48fc-b8b2-53768b0a9612",
   "metadata": {
    "tags": []
   },
   "outputs": [
    {
     "name": "stdout",
     "output_type": "stream",
     "text": [
      "File size: 194076 bytes\n",
      "Length of format data: 16\n",
      "Type of format: 1, (1 - is PCM)\n",
      "Number of channels: 1\n",
      "Mono audio\n",
      "BytesPerSample x Channels: 2\n",
      "Byte Rate: 88200\n",
      "Sample rate: 44100\n",
      "Bits per sample: 16\n",
      "Data size: 194040 bytes\n"
     ]
    }
   ],
   "source": [
    "from tkinter import Tk\n",
    "from tkinter.filedialog import askopenfilename\n",
    "import numpy as np\n",
    "import matplotlib.pyplot as plt\n",
    "\n",
    "Tk().withdraw()\n",
    "filename = askopenfilename()\n",
    "# filename = \"/Users/modestasgrazys/Documents/VU/Signal Processing/Samples/0c91a6b2.wav\"\n",
    "\n",
    "with open(filename, 'rb') as input_file:\n",
    "    riff = input_file.read(4)\n",
    "    file_size = int.from_bytes(input_file.read(4), \"little\")\n",
    "    file_type_header_wave = input_file.read(4)\n",
    "    format_chunk_marker = input_file.read(4)\n",
    "    length_of_format_data = int.from_bytes(input_file.read(4), \"little\")\n",
    "    type_of_format = int.from_bytes(input_file.read(2), \"little\")\n",
    "    number_of_channels = int.from_bytes(input_file.read(2), \"little\")\n",
    "    sample_rate = int.from_bytes(input_file.read(4), \"little\")\n",
    "    byte_rate = int.from_bytes(input_file.read(4), \"little\")\n",
    "    bytes_per_sample_channels = int.from_bytes(input_file.read(2), \"little\")\n",
    "    bits_per_sample = int.from_bytes(input_file.read(2), \"little\")\n",
    "    data_header = input_file.read(4)\n",
    "    data_size = int.from_bytes(input_file.read(4), \"little\")\n",
    "    \n",
    "    print(f'File size: {file_size} bytes')\n",
    "    print(f'Length of format data: {length_of_format_data}')\n",
    "    print(f'Type of format: {type_of_format}, (1 - is PCM)')\n",
    "    print(f'Number of channels: {number_of_channels}')\n",
    "    if number_of_channels == 1:\n",
    "        print(f'Mono audio')\n",
    "    elif number_of_channels == 2:\n",
    "        print(f'Stereo audio')\n",
    "    else:\n",
    "        raise Exception(\"This number of channels is unsopported\")\n",
    "    print(f'BytesPerSample x Channels: {bytes_per_sample_channels}')\n",
    "    print(f'Byte Rate: {byte_rate}')\n",
    "    print(f'Sample rate: {sample_rate}')\n",
    "    print(f'Bits per sample: {bits_per_sample}')\n",
    "    if data_size > file_size:\n",
    "        data_size = file_size - 8\n",
    "    print(f'Data size: {data_size} bytes')\n",
    "    \n",
    "    sample_in_bytes = input_file.read(data_size)"
   ]
  },
  {
   "cell_type": "code",
   "execution_count": 2,
   "id": "68fb8c7f-a0d7-4211-937d-81707c8693d5",
   "metadata": {},
   "outputs": [
    {
     "name": "stdout",
     "output_type": "stream",
     "text": [
      "Bytes per sample: 2\n",
      "Total samples in the audio file: 97020\n",
      "Sound duration: 2.2 s\n"
     ]
    }
   ],
   "source": [
    "bytes_per_sample = int(bits_per_sample / 8)\n",
    "total_samples = int(data_size / (bytes_per_sample * number_of_channels))\n",
    "sound_duration = total_samples / sample_rate\n",
    "\n",
    "\n",
    "samples = []\n",
    "\n",
    "if number_of_channels == 1:\n",
    "    for i in range(total_samples):\n",
    "        sample = int.from_bytes(sample_in_bytes[bytes_per_sample*i:bytes_per_sample*(i+1)], \"little\", signed=True)\n",
    "        samples.append(sample)\n",
    "elif number_of_channels == 2:\n",
    "    for i in range(total_samples):\n",
    "        sample1 = int.from_bytes(sample_in_bytes[bytes_per_sample*i:bytes_per_sample*(i+1)], \"little\", signed=True)\n",
    "        sample2 = int.from_bytes(sample_in_bytes[bytes_per_sample*(i+2):bytes_per_sample*(i+3)], \"little\", signed=True)\n",
    "        samples.append((sample1, sample2))\n",
    "else:\n",
    "    raise Exception(\"More than 2 channel audio files unsupported\")\n",
    "\n",
    "\n",
    "print(f'Bytes per sample: {bytes_per_sample}')\n",
    "print(f'Total samples in the audio file: {total_samples}')\n",
    "print(f'Sound duration: {sound_duration} s')"
   ]
  },
  {
   "cell_type": "code",
   "execution_count": 3,
   "id": "5ade0931-59a3-448d-8c2f-c63fda52dbdf",
   "metadata": {},
   "outputs": [],
   "source": [
    "# Set marker position in the sound diagram. Please mind the duration of a sound\n",
    "marker_position = 0.5\n",
    "\n",
    "marker_position = marker_position * sample_rate"
   ]
  },
  {
   "cell_type": "code",
   "execution_count": 4,
   "id": "ac597b6a-da9e-4051-8304-eff857d1307d",
   "metadata": {},
   "outputs": [
    {
     "data": {
      "image/png": "[encoded data removed]",
      "text/plain": [
       "<Figure size 432x288 with 2 Axes>"
      ]
     },
     "metadata": {
      "needs_background": "light"
     },
     "output_type": "display_data"
    }
   ],
   "source": [
    "if number_of_channels == 1:\n",
    "    samples = np.array(samples)\n",
    "    time_axis = np.arange(0, total_samples)\n",
    "    plt.plot(time_axis, samples)\n",
    "    plt.plot(marker_position, 0, marker=\"P\", markersize=15)\n",
    "elif number_of_channels == 2:\n",
    "    channel1_samples = [channel1_sample for (channel1_sample, channel2_sample) in samples]\n",
    "    channel2_samples = [channel2_sample for (channel1_sample, channel2_sample) in samples]\n",
    "    time_axis = np.arange(0, total_samples)\n",
    "    fig, ax = plt.subplots(2, 1, sharex='col', sharey='row')\n",
    "    ax[0].plot(time_axis, channel1_samples)\n",
    "    ax[0].plot(marker_position, 0, marker=\"P\", markersize=15)\n",
    "    ax[1].plot(time_axis, channel2_samples)\n",
    "    ax[1].plot(marker_position, 0, marker=\"P\", markersize=15)\n",
    "    \n",
    "tick_locations, tick_labels = plt.xticks()\n",
    "tick_labels = [round(value / sample_rate, 1) for value in tick_locations]\n",
    "plt.xticks(ticks=tick_locations, labels=tick_labels)\n",
    "plt.xlabel('time (s)')\n",
    "plt.ylabel('Amplitude')\n",
    "plt.show()"
   ]
  },
  {
   "cell_type": "code",
   "execution_count": null,
   "id": "5c3b4e02-a59e-4bef-9220-37d886ba66b1",
   "metadata": {},
   "outputs": [],
   "source": []
  }
 ],
 "metadata": {
  "kernelspec": {
   "display_name": "Python 3 (ipykernel)",
   "language": "python",
   "name": "python3"
  },
  "language_info": {
   "codemirror_mode": {
    "name": "ipython",
    "version": 3
   },
   "file_extension": ".py",
   "mimetype": "text/x-python",
   "name": "python",
   "nbconvert_exporter": "python",
   "pygments_lexer": "ipython3",
   "version": "3.9.12"
  }
 },
 "nbformat": 4,
 "nbformat_minor": 5
}
